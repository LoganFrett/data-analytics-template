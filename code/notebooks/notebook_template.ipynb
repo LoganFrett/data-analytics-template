{
 "cells": [
  {
   "cell_type": "markdown",
   "id": "ee5246de-a5cd-4541-ac5e-51e239fce47c",
   "metadata": {},
   "source": [
    "# Project name"
   ]
  },
  {
   "cell_type": "markdown",
   "id": "b08d8e7c-c320-4a84-9f01-bb8068ae5868",
   "metadata": {},
   "source": [
    "**Author:** Logan Frett\n",
    "**Last Modified:** 11-16-2024 (created: 11-16-2024)\n",
    "\n",
    "**Description:** Short paragraph explaining thiis project."
   ]
  },
  {
   "cell_type": "markdown",
   "id": "7086e529-107c-4a17-9357-e3967a5699b0",
   "metadata": {},
   "source": [
    "<br>"
   ]
  },
  {
   "cell_type": "markdown",
   "id": "8bac7e41-ddb4-4467-8106-04ef740a3ac5",
   "metadata": {},
   "source": [
    "Import libraries:"
   ]
  },
  {
   "cell_type": "code",
   "execution_count": 5,
   "id": "842dea4a-3bd2-4e2c-9cd2-97100264f6c2",
   "metadata": {},
   "outputs": [],
   "source": [
    "import pandas as pd "
   ]
  },
  {
   "cell_type": "markdown",
   "id": "a0a34130-8976-49a4-8d3a-619a5e72560d",
   "metadata": {},
   "source": [
    "<br>"
   ]
  },
  {
   "cell_type": "markdown",
   "id": "6abcd71e-eaa4-4aa1-9d0f-bf5551c25ac2",
   "metadata": {},
   "source": [
    "Load data:"
   ]
  },
  {
   "cell_type": "code",
   "execution_count": 16,
   "id": "f6b9ae68-9d22-49e0-98b4-92ff5197c4c9",
   "metadata": {},
   "outputs": [],
   "source": [
    "# Code to read csv file"
   ]
  },
  {
   "cell_type": "code",
   "execution_count": null,
   "id": "26230a68-2afc-4936-bc81-8c7f8ffd57dd",
   "metadata": {},
   "outputs": [],
   "source": []
  },
  {
   "cell_type": "code",
   "execution_count": null,
   "id": "02633c61-db04-4d7e-abf3-bd19137da82f",
   "metadata": {},
   "outputs": [],
   "source": []
  }
 ],
 "metadata": {
  "kernelspec": {
   "display_name": "Python 3 (ipykernel)",
   "language": "python",
   "name": "python3"
  },
  "language_info": {
   "codemirror_mode": {
    "name": "ipython",
    "version": 3
   },
   "file_extension": ".py",
   "mimetype": "text/x-python",
   "name": "python",
   "nbconvert_exporter": "python",
   "pygments_lexer": "ipython3",
   "version": "3.12.4"
  }
 },
 "nbformat": 4,
 "nbformat_minor": 5
}
